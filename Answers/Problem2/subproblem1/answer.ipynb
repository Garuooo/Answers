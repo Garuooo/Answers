{
 "cells": [
  {
   "cell_type": "code",
   "execution_count": 1,
   "metadata": {},
   "outputs": [],
   "source": [
    "import pandas as pd\n",
    "import numpy as np"
   ]
  },
  {
   "cell_type": "code",
   "execution_count": 2,
   "metadata": {},
   "outputs": [],
   "source": [
    "csv = pd.read_csv(\"data.csv\",sep=\"\\t\")"
   ]
  },
  {
   "cell_type": "code",
   "execution_count": 3,
   "metadata": {},
   "outputs": [
    {
     "data": {
      "text/html": [
       "<div>\n",
       "<style scoped>\n",
       "    .dataframe tbody tr th:only-of-type {\n",
       "        vertical-align: middle;\n",
       "    }\n",
       "\n",
       "    .dataframe tbody tr th {\n",
       "        vertical-align: top;\n",
       "    }\n",
       "\n",
       "    .dataframe thead th {\n",
       "        text-align: right;\n",
       "    }\n",
       "</style>\n",
       "<table border=\"1\" class=\"dataframe\">\n",
       "  <thead>\n",
       "    <tr style=\"text-align: right;\">\n",
       "      <th></th>\n",
       "      <th>ord_no</th>\n",
       "      <th>purch_amt</th>\n",
       "      <th>ord_date</th>\n",
       "      <th>customer_id</th>\n",
       "      <th>salesman_id</th>\n",
       "    </tr>\n",
       "  </thead>\n",
       "  <tbody>\n",
       "    <tr>\n",
       "      <th>0</th>\n",
       "      <td>70001</td>\n",
       "      <td>150.50</td>\n",
       "      <td>2012-10-05</td>\n",
       "      <td>3002</td>\n",
       "      <td>5002</td>\n",
       "    </tr>\n",
       "    <tr>\n",
       "      <th>1</th>\n",
       "      <td>70009</td>\n",
       "      <td>270.65</td>\n",
       "      <td>2012-09-10</td>\n",
       "      <td>3001</td>\n",
       "      <td>5003</td>\n",
       "    </tr>\n",
       "    <tr>\n",
       "      <th>2</th>\n",
       "      <td>70002</td>\n",
       "      <td>65.26</td>\n",
       "      <td>2012-10-05</td>\n",
       "      <td>3001</td>\n",
       "      <td>5001</td>\n",
       "    </tr>\n",
       "    <tr>\n",
       "      <th>3</th>\n",
       "      <td>70004</td>\n",
       "      <td>110.50</td>\n",
       "      <td>2012-08-17</td>\n",
       "      <td>3003</td>\n",
       "      <td>5003</td>\n",
       "    </tr>\n",
       "    <tr>\n",
       "      <th>4</th>\n",
       "      <td>70007</td>\n",
       "      <td>948.50</td>\n",
       "      <td>2012-09-10</td>\n",
       "      <td>3002</td>\n",
       "      <td>5002</td>\n",
       "    </tr>\n",
       "  </tbody>\n",
       "</table>\n",
       "</div>"
      ],
      "text/plain": [
       "   ord_no  purch_amt    ord_date  customer_id  salesman_id\n",
       "0   70001     150.50  2012-10-05         3002         5002\n",
       "1   70009     270.65  2012-09-10         3001         5003\n",
       "2   70002      65.26  2012-10-05         3001         5001\n",
       "3   70004     110.50  2012-08-17         3003         5003\n",
       "4   70007     948.50  2012-09-10         3002         5002"
      ]
     },
     "execution_count": 3,
     "metadata": {},
     "output_type": "execute_result"
    }
   ],
   "source": [
    "csv.head()"
   ]
  },
  {
   "cell_type": "code",
   "execution_count": 4,
   "metadata": {},
   "outputs": [
    {
     "data": {
      "text/plain": [
       "12"
      ]
     },
     "execution_count": 4,
     "metadata": {},
     "output_type": "execute_result"
    }
   ],
   "source": [
    "len(csv)"
   ]
  },
  {
   "cell_type": "code",
   "execution_count": 5,
   "metadata": {},
   "outputs": [],
   "source": [
    "# the dataset contains data of 12 orders"
   ]
  },
  {
   "cell_type": "code",
   "execution_count": 6,
   "metadata": {},
   "outputs": [],
   "source": [
    "# Group by customers to be able to analysis the purchase history of each customer\n",
    "# this can be used to find out when each customer buys , what's the category of items that\n",
    "# the customer is interested in ,\n",
    "#  the average of each customer orders can be used to predict \n",
    "#  the value of the future orders of the customer\n",
    "# time and date can be a critical factor depends on the data we have"
   ]
  },
  {
   "cell_type": "code",
   "execution_count": 7,
   "metadata": {},
   "outputs": [],
   "source": [
    "grouped_customers = csv.groupby(\"customer_id\")"
   ]
  },
  {
   "cell_type": "code",
   "execution_count": 8,
   "metadata": {},
   "outputs": [
    {
     "data": {
      "text/html": [
       "<div>\n",
       "<style scoped>\n",
       "    .dataframe tbody tr th:only-of-type {\n",
       "        vertical-align: middle;\n",
       "    }\n",
       "\n",
       "    .dataframe tbody tr th {\n",
       "        vertical-align: top;\n",
       "    }\n",
       "\n",
       "    .dataframe thead tr th {\n",
       "        text-align: left;\n",
       "    }\n",
       "\n",
       "    .dataframe thead tr:last-of-type th {\n",
       "        text-align: right;\n",
       "    }\n",
       "</style>\n",
       "<table border=\"1\" class=\"dataframe\">\n",
       "  <thead>\n",
       "    <tr>\n",
       "      <th></th>\n",
       "      <th colspan=\"8\" halign=\"left\">ord_no</th>\n",
       "      <th colspan=\"5\" halign=\"left\">purch_amt</th>\n",
       "      <th colspan=\"8\" halign=\"left\">salesman_id</th>\n",
       "    </tr>\n",
       "    <tr>\n",
       "      <th></th>\n",
       "      <th>count</th>\n",
       "      <th>mean</th>\n",
       "      <th>std</th>\n",
       "      <th>min</th>\n",
       "      <th>25%</th>\n",
       "      <th>50%</th>\n",
       "      <th>75%</th>\n",
       "      <th>max</th>\n",
       "      <th>count</th>\n",
       "      <th>mean</th>\n",
       "      <th>...</th>\n",
       "      <th>75%</th>\n",
       "      <th>max</th>\n",
       "      <th>count</th>\n",
       "      <th>mean</th>\n",
       "      <th>std</th>\n",
       "      <th>min</th>\n",
       "      <th>25%</th>\n",
       "      <th>50%</th>\n",
       "      <th>75%</th>\n",
       "      <th>max</th>\n",
       "    </tr>\n",
       "    <tr>\n",
       "      <th>customer_id</th>\n",
       "      <th></th>\n",
       "      <th></th>\n",
       "      <th></th>\n",
       "      <th></th>\n",
       "      <th></th>\n",
       "      <th></th>\n",
       "      <th></th>\n",
       "      <th></th>\n",
       "      <th></th>\n",
       "      <th></th>\n",
       "      <th></th>\n",
       "      <th></th>\n",
       "      <th></th>\n",
       "      <th></th>\n",
       "      <th></th>\n",
       "      <th></th>\n",
       "      <th></th>\n",
       "      <th></th>\n",
       "      <th></th>\n",
       "      <th></th>\n",
       "      <th></th>\n",
       "    </tr>\n",
       "  </thead>\n",
       "  <tbody>\n",
       "    <tr>\n",
       "      <th>3001</th>\n",
       "      <td>4.0</td>\n",
       "      <td>70008.00</td>\n",
       "      <td>4.546061</td>\n",
       "      <td>70002.0</td>\n",
       "      <td>70006.5</td>\n",
       "      <td>70008.5</td>\n",
       "      <td>70010.00</td>\n",
       "      <td>70013.0</td>\n",
       "      <td>4.0</td>\n",
       "      <td>2285.3775</td>\n",
       "      <td>...</td>\n",
       "      <td>3724.200</td>\n",
       "      <td>5760.00</td>\n",
       "      <td>4.0</td>\n",
       "      <td>5001.50</td>\n",
       "      <td>1.0</td>\n",
       "      <td>5001.0</td>\n",
       "      <td>5001.00</td>\n",
       "      <td>5001.0</td>\n",
       "      <td>5001.5</td>\n",
       "      <td>5003.0</td>\n",
       "    </tr>\n",
       "    <tr>\n",
       "      <th>3002</th>\n",
       "      <td>4.0</td>\n",
       "      <td>70006.25</td>\n",
       "      <td>4.573474</td>\n",
       "      <td>70001.0</td>\n",
       "      <td>70004.0</td>\n",
       "      <td>70006.0</td>\n",
       "      <td>70008.25</td>\n",
       "      <td>70012.0</td>\n",
       "      <td>4.0</td>\n",
       "      <td>937.5125</td>\n",
       "      <td>...</td>\n",
       "      <td>1311.525</td>\n",
       "      <td>2400.60</td>\n",
       "      <td>4.0</td>\n",
       "      <td>5001.75</td>\n",
       "      <td>0.5</td>\n",
       "      <td>5001.0</td>\n",
       "      <td>5001.75</td>\n",
       "      <td>5002.0</td>\n",
       "      <td>5002.0</td>\n",
       "      <td>5002.0</td>\n",
       "    </tr>\n",
       "    <tr>\n",
       "      <th>3003</th>\n",
       "      <td>3.0</td>\n",
       "      <td>70006.00</td>\n",
       "      <td>4.358899</td>\n",
       "      <td>70003.0</td>\n",
       "      <td>70003.5</td>\n",
       "      <td>70004.0</td>\n",
       "      <td>70007.50</td>\n",
       "      <td>70011.0</td>\n",
       "      <td>3.0</td>\n",
       "      <td>888.7300</td>\n",
       "      <td>...</td>\n",
       "      <td>1295.450</td>\n",
       "      <td>2480.40</td>\n",
       "      <td>3.0</td>\n",
       "      <td>5003.00</td>\n",
       "      <td>0.0</td>\n",
       "      <td>5003.0</td>\n",
       "      <td>5003.00</td>\n",
       "      <td>5003.0</td>\n",
       "      <td>5003.0</td>\n",
       "      <td>5003.0</td>\n",
       "    </tr>\n",
       "    <tr>\n",
       "      <th>3004</th>\n",
       "      <td>1.0</td>\n",
       "      <td>70010.00</td>\n",
       "      <td>NaN</td>\n",
       "      <td>70010.0</td>\n",
       "      <td>70010.0</td>\n",
       "      <td>70010.0</td>\n",
       "      <td>70010.00</td>\n",
       "      <td>70010.0</td>\n",
       "      <td>1.0</td>\n",
       "      <td>1983.4300</td>\n",
       "      <td>...</td>\n",
       "      <td>1983.430</td>\n",
       "      <td>1983.43</td>\n",
       "      <td>1.0</td>\n",
       "      <td>5003.00</td>\n",
       "      <td>NaN</td>\n",
       "      <td>5003.0</td>\n",
       "      <td>5003.00</td>\n",
       "      <td>5003.0</td>\n",
       "      <td>5003.0</td>\n",
       "      <td>5003.0</td>\n",
       "    </tr>\n",
       "  </tbody>\n",
       "</table>\n",
       "<p>4 rows × 24 columns</p>\n",
       "</div>"
      ],
      "text/plain": [
       "            ord_no                                                           \\\n",
       "             count      mean       std      min      25%      50%       75%   \n",
       "customer_id                                                                   \n",
       "3001           4.0  70008.00  4.546061  70002.0  70006.5  70008.5  70010.00   \n",
       "3002           4.0  70006.25  4.573474  70001.0  70004.0  70006.0  70008.25   \n",
       "3003           3.0  70006.00  4.358899  70003.0  70003.5  70004.0  70007.50   \n",
       "3004           1.0  70010.00       NaN  70010.0  70010.0  70010.0  70010.00   \n",
       "\n",
       "                     purch_amt             ...                    salesman_id  \\\n",
       "                 max     count       mean  ...       75%      max       count   \n",
       "customer_id                                ...                                  \n",
       "3001         70013.0       4.0  2285.3775  ...  3724.200  5760.00         4.0   \n",
       "3002         70012.0       4.0   937.5125  ...  1311.525  2400.60         4.0   \n",
       "3003         70011.0       3.0   888.7300  ...  1295.450  2480.40         3.0   \n",
       "3004         70010.0       1.0  1983.4300  ...  1983.430  1983.43         1.0   \n",
       "\n",
       "                                                                    \n",
       "                mean  std     min      25%     50%     75%     max  \n",
       "customer_id                                                         \n",
       "3001         5001.50  1.0  5001.0  5001.00  5001.0  5001.5  5003.0  \n",
       "3002         5001.75  0.5  5001.0  5001.75  5002.0  5002.0  5002.0  \n",
       "3003         5003.00  0.0  5003.0  5003.00  5003.0  5003.0  5003.0  \n",
       "3004         5003.00  NaN  5003.0  5003.00  5003.0  5003.0  5003.0  \n",
       "\n",
       "[4 rows x 24 columns]"
      ]
     },
     "execution_count": 8,
     "metadata": {},
     "output_type": "execute_result"
    }
   ],
   "source": [
    "grouped_customers_df = grouped_customers.describe()\n",
    "grouped_customers_df"
   ]
  },
  {
   "cell_type": "code",
   "execution_count": 9,
   "metadata": {},
   "outputs": [
    {
     "data": {
      "text/html": [
       "<div>\n",
       "<style scoped>\n",
       "    .dataframe tbody tr th:only-of-type {\n",
       "        vertical-align: middle;\n",
       "    }\n",
       "\n",
       "    .dataframe tbody tr th {\n",
       "        vertical-align: top;\n",
       "    }\n",
       "\n",
       "    .dataframe thead tr th {\n",
       "        text-align: left;\n",
       "    }\n",
       "\n",
       "    .dataframe thead tr:last-of-type th {\n",
       "        text-align: right;\n",
       "    }\n",
       "</style>\n",
       "<table border=\"1\" class=\"dataframe\">\n",
       "  <thead>\n",
       "    <tr>\n",
       "      <th></th>\n",
       "      <th colspan=\"8\" halign=\"left\">purch_amt</th>\n",
       "    </tr>\n",
       "    <tr>\n",
       "      <th></th>\n",
       "      <th>count</th>\n",
       "      <th>mean</th>\n",
       "      <th>std</th>\n",
       "      <th>min</th>\n",
       "      <th>25%</th>\n",
       "      <th>50%</th>\n",
       "      <th>75%</th>\n",
       "      <th>max</th>\n",
       "    </tr>\n",
       "    <tr>\n",
       "      <th>customer_id</th>\n",
       "      <th></th>\n",
       "      <th></th>\n",
       "      <th></th>\n",
       "      <th></th>\n",
       "      <th></th>\n",
       "      <th></th>\n",
       "      <th></th>\n",
       "      <th></th>\n",
       "    </tr>\n",
       "  </thead>\n",
       "  <tbody>\n",
       "    <tr>\n",
       "      <th>3001</th>\n",
       "      <td>4.0</td>\n",
       "      <td>2285.3775</td>\n",
       "      <td>2685.702166</td>\n",
       "      <td>65.26</td>\n",
       "      <td>219.3025</td>\n",
       "      <td>1658.125</td>\n",
       "      <td>3724.200</td>\n",
       "      <td>5760.00</td>\n",
       "    </tr>\n",
       "    <tr>\n",
       "      <th>3002</th>\n",
       "      <td>4.0</td>\n",
       "      <td>937.5125</td>\n",
       "      <td>1037.977089</td>\n",
       "      <td>150.50</td>\n",
       "      <td>225.4625</td>\n",
       "      <td>599.475</td>\n",
       "      <td>1311.525</td>\n",
       "      <td>2400.60</td>\n",
       "    </tr>\n",
       "    <tr>\n",
       "      <th>3003</th>\n",
       "      <td>3.0</td>\n",
       "      <td>888.7300</td>\n",
       "      <td>1378.539074</td>\n",
       "      <td>75.29</td>\n",
       "      <td>92.8950</td>\n",
       "      <td>110.500</td>\n",
       "      <td>1295.450</td>\n",
       "      <td>2480.40</td>\n",
       "    </tr>\n",
       "    <tr>\n",
       "      <th>3004</th>\n",
       "      <td>1.0</td>\n",
       "      <td>1983.4300</td>\n",
       "      <td>NaN</td>\n",
       "      <td>1983.43</td>\n",
       "      <td>1983.4300</td>\n",
       "      <td>1983.430</td>\n",
       "      <td>1983.430</td>\n",
       "      <td>1983.43</td>\n",
       "    </tr>\n",
       "  </tbody>\n",
       "</table>\n",
       "</div>"
      ],
      "text/plain": [
       "            purch_amt                                                        \\\n",
       "                count       mean          std      min        25%       50%   \n",
       "customer_id                                                                   \n",
       "3001              4.0  2285.3775  2685.702166    65.26   219.3025  1658.125   \n",
       "3002              4.0   937.5125  1037.977089   150.50   225.4625   599.475   \n",
       "3003              3.0   888.7300  1378.539074    75.29    92.8950   110.500   \n",
       "3004              1.0  1983.4300          NaN  1983.43  1983.4300  1983.430   \n",
       "\n",
       "                                \n",
       "                  75%      max  \n",
       "customer_id                     \n",
       "3001         3724.200  5760.00  \n",
       "3002         1311.525  2400.60  \n",
       "3003         1295.450  2480.40  \n",
       "3004         1983.430  1983.43  "
      ]
     },
     "execution_count": 9,
     "metadata": {},
     "output_type": "execute_result"
    }
   ],
   "source": [
    "grouped_customers_df.drop([\"ord_no\",\"salesman_id\"],axis=1,inplace=True)\n",
    "grouped_customers_df"
   ]
  },
  {
   "cell_type": "code",
   "execution_count": 33,
   "metadata": {},
   "outputs": [
    {
     "data": {
      "text/html": [
       "<div>\n",
       "<style scoped>\n",
       "    .dataframe tbody tr th:only-of-type {\n",
       "        vertical-align: middle;\n",
       "    }\n",
       "\n",
       "    .dataframe tbody tr th {\n",
       "        vertical-align: top;\n",
       "    }\n",
       "\n",
       "    .dataframe thead th {\n",
       "        text-align: right;\n",
       "    }\n",
       "</style>\n",
       "<table border=\"1\" class=\"dataframe\">\n",
       "  <thead>\n",
       "    <tr style=\"text-align: right;\">\n",
       "      <th></th>\n",
       "      <th>mean</th>\n",
       "    </tr>\n",
       "    <tr>\n",
       "      <th>customer_id</th>\n",
       "      <th></th>\n",
       "    </tr>\n",
       "  </thead>\n",
       "  <tbody>\n",
       "    <tr>\n",
       "      <th>3001</th>\n",
       "      <td>2285.3775</td>\n",
       "    </tr>\n",
       "    <tr>\n",
       "      <th>3002</th>\n",
       "      <td>937.5125</td>\n",
       "    </tr>\n",
       "    <tr>\n",
       "      <th>3003</th>\n",
       "      <td>888.7300</td>\n",
       "    </tr>\n",
       "    <tr>\n",
       "      <th>3004</th>\n",
       "      <td>1983.4300</td>\n",
       "    </tr>\n",
       "  </tbody>\n",
       "</table>\n",
       "</div>"
      ],
      "text/plain": [
       "                  mean\n",
       "customer_id           \n",
       "3001         2285.3775\n",
       "3002          937.5125\n",
       "3003          888.7300\n",
       "3004         1983.4300"
      ]
     },
     "execution_count": 33,
     "metadata": {},
     "output_type": "execute_result"
    }
   ],
   "source": [
    "# mean purchase value of each customer\n",
    "pd.DataFrame(grouped_customers_df[\"purch_amt\"][\"mean\"])"
   ]
  },
  {
   "cell_type": "code",
   "execution_count": 35,
   "metadata": {},
   "outputs": [
    {
     "data": {
      "text/html": [
       "<div>\n",
       "<style scoped>\n",
       "    .dataframe tbody tr th:only-of-type {\n",
       "        vertical-align: middle;\n",
       "    }\n",
       "\n",
       "    .dataframe tbody tr th {\n",
       "        vertical-align: top;\n",
       "    }\n",
       "\n",
       "    .dataframe thead th {\n",
       "        text-align: right;\n",
       "    }\n",
       "</style>\n",
       "<table border=\"1\" class=\"dataframe\">\n",
       "  <thead>\n",
       "    <tr style=\"text-align: right;\">\n",
       "      <th></th>\n",
       "      <th>max</th>\n",
       "    </tr>\n",
       "    <tr>\n",
       "      <th>customer_id</th>\n",
       "      <th></th>\n",
       "    </tr>\n",
       "  </thead>\n",
       "  <tbody>\n",
       "    <tr>\n",
       "      <th>3001</th>\n",
       "      <td>5760.00</td>\n",
       "    </tr>\n",
       "    <tr>\n",
       "      <th>3002</th>\n",
       "      <td>2400.60</td>\n",
       "    </tr>\n",
       "    <tr>\n",
       "      <th>3003</th>\n",
       "      <td>2480.40</td>\n",
       "    </tr>\n",
       "    <tr>\n",
       "      <th>3004</th>\n",
       "      <td>1983.43</td>\n",
       "    </tr>\n",
       "  </tbody>\n",
       "</table>\n",
       "</div>"
      ],
      "text/plain": [
       "                 max\n",
       "customer_id         \n",
       "3001         5760.00\n",
       "3002         2400.60\n",
       "3003         2480.40\n",
       "3004         1983.43"
      ]
     },
     "execution_count": 35,
     "metadata": {},
     "output_type": "execute_result"
    }
   ],
   "source": [
    "# Mamimium purchase value of each sutomer\n",
    "pd.DataFrame(grouped_customers_df[\"purch_amt\"][\"max\"])"
   ]
  },
  {
   "cell_type": "code",
   "execution_count": 36,
   "metadata": {},
   "outputs": [
    {
     "data": {
      "text/html": [
       "<div>\n",
       "<style scoped>\n",
       "    .dataframe tbody tr th:only-of-type {\n",
       "        vertical-align: middle;\n",
       "    }\n",
       "\n",
       "    .dataframe tbody tr th {\n",
       "        vertical-align: top;\n",
       "    }\n",
       "\n",
       "    .dataframe thead th {\n",
       "        text-align: right;\n",
       "    }\n",
       "</style>\n",
       "<table border=\"1\" class=\"dataframe\">\n",
       "  <thead>\n",
       "    <tr style=\"text-align: right;\">\n",
       "      <th></th>\n",
       "      <th>count</th>\n",
       "    </tr>\n",
       "    <tr>\n",
       "      <th>customer_id</th>\n",
       "      <th></th>\n",
       "    </tr>\n",
       "  </thead>\n",
       "  <tbody>\n",
       "    <tr>\n",
       "      <th>3001</th>\n",
       "      <td>4.0</td>\n",
       "    </tr>\n",
       "    <tr>\n",
       "      <th>3002</th>\n",
       "      <td>4.0</td>\n",
       "    </tr>\n",
       "    <tr>\n",
       "      <th>3003</th>\n",
       "      <td>3.0</td>\n",
       "    </tr>\n",
       "    <tr>\n",
       "      <th>3004</th>\n",
       "      <td>1.0</td>\n",
       "    </tr>\n",
       "  </tbody>\n",
       "</table>\n",
       "</div>"
      ],
      "text/plain": [
       "             count\n",
       "customer_id       \n",
       "3001           4.0\n",
       "3002           4.0\n",
       "3003           3.0\n",
       "3004           1.0"
      ]
     },
     "execution_count": 36,
     "metadata": {},
     "output_type": "execute_result"
    }
   ],
   "source": [
    "# Number of orders created by each customer \n",
    "pd.DataFrame(grouped_customers_df[\"purch_amt\"][\"count\"])"
   ]
  },
  {
   "cell_type": "code",
   "execution_count": 10,
   "metadata": {},
   "outputs": [
    {
     "name": "stdout",
     "output_type": "stream",
     "text": [
      "The maximum number of orders created by a customer 4.0\n",
      "The maximum number of orders created by a customer 1.0\n"
     ]
    }
   ],
   "source": [
    "print(f\"The maximum number of orders created by a customer {grouped_customers_df['purch_amt']['count'].max()}\")\n",
    "print(f\"The maximum number of orders created by a customer {grouped_customers_df['purch_amt']['count'].min()}\")"
   ]
  },
  {
   "cell_type": "code",
   "execution_count": 11,
   "metadata": {},
   "outputs": [
    {
     "name": "stdout",
     "output_type": "stream",
     "text": [
      "The most expensive order created by a customer 5760.0\n",
      "The least expensive order created by a customer 1983.43\n"
     ]
    }
   ],
   "source": [
    "print(f\"The most expensive order created by a customer {grouped_customers_df['purch_amt']['max'].max()}\")\n",
    "print(f\"The least expensive order created by a customer {grouped_customers_df['purch_amt']['max'].min()}\")"
   ]
  },
  {
   "cell_type": "code",
   "execution_count": 27,
   "metadata": {},
   "outputs": [
    {
     "name": "stdout",
     "output_type": "stream",
     "text": [
      " Customer Number = 1\n",
      "number of orders ordered by this customer = 4.0\n",
      "The mean value of the orders = 2285.3775\n",
      "The most expensive order created by this customer 5760.0\n",
      "\n",
      "\n",
      " Customer Number = 2\n",
      "number of orders ordered by this customer = 4.0\n",
      "The mean value of the orders = 937.5124999999999\n",
      "The most expensive order created by this customer 5760.0\n",
      "\n",
      "\n",
      " Customer Number = 3\n",
      "number of orders ordered by this customer = 3.0\n",
      "The mean value of the orders = 888.73\n",
      "The most expensive order created by this customer 5760.0\n",
      "\n",
      "\n",
      " Customer Number = 4\n",
      "number of orders ordered by this customer = 1.0\n",
      "The mean value of the orders = 1983.43\n",
      "The most expensive order created by this customer 5760.0\n",
      "\n",
      "\n"
     ]
    }
   ],
   "source": [
    "for i in range(len(grouped_customers_df)):\n",
    "    print(f\" Customer Number = {i+1}\")\n",
    "    print(f\"number of orders ordered by this customer = {grouped_customers_df.iloc[i]['purch_amt']['count']}\")\n",
    "    print(f\"The mean value of the orders = {grouped_customers_df.iloc[i]['purch_amt']['mean']}\")  \n",
    "    print(f\"The most expensive order created by this customer {grouped_customers_df['purch_amt']['max'].max()}\")\n",
    "    print(\"\\n\")"
   ]
  },
  {
   "cell_type": "code",
   "execution_count": 13,
   "metadata": {},
   "outputs": [
    {
     "data": {
      "text/plain": [
       "<pandas.core.groupby.generic.DataFrameGroupBy object at 0x0000019444FAAF70>"
      ]
     },
     "execution_count": 13,
     "metadata": {},
     "output_type": "execute_result"
    }
   ],
   "source": [
    "salesmans_grouped = csv.groupby(\"salesman_id\")\n",
    "salesmans_grouped"
   ]
  },
  {
   "cell_type": "code",
   "execution_count": 14,
   "metadata": {},
   "outputs": [],
   "source": [
    "salesmans_grouped_df = salesmans_grouped.describe().drop([\"ord_no\",\"customer_id\"],axis=1)"
   ]
  },
  {
   "cell_type": "code",
   "execution_count": 15,
   "metadata": {},
   "outputs": [
    {
     "data": {
      "text/html": [
       "<div>\n",
       "<style scoped>\n",
       "    .dataframe tbody tr th:only-of-type {\n",
       "        vertical-align: middle;\n",
       "    }\n",
       "\n",
       "    .dataframe tbody tr th {\n",
       "        vertical-align: top;\n",
       "    }\n",
       "\n",
       "    .dataframe thead tr th {\n",
       "        text-align: left;\n",
       "    }\n",
       "\n",
       "    .dataframe thead tr:last-of-type th {\n",
       "        text-align: right;\n",
       "    }\n",
       "</style>\n",
       "<table border=\"1\" class=\"dataframe\">\n",
       "  <thead>\n",
       "    <tr>\n",
       "      <th></th>\n",
       "      <th colspan=\"8\" halign=\"left\">purch_amt</th>\n",
       "    </tr>\n",
       "    <tr>\n",
       "      <th></th>\n",
       "      <th>count</th>\n",
       "      <th>mean</th>\n",
       "      <th>std</th>\n",
       "      <th>min</th>\n",
       "      <th>25%</th>\n",
       "      <th>50%</th>\n",
       "      <th>75%</th>\n",
       "      <th>max</th>\n",
       "    </tr>\n",
       "    <tr>\n",
       "      <th>salesman_id</th>\n",
       "      <th></th>\n",
       "      <th></th>\n",
       "      <th></th>\n",
       "      <th></th>\n",
       "      <th></th>\n",
       "      <th></th>\n",
       "      <th></th>\n",
       "      <th></th>\n",
       "    </tr>\n",
       "  </thead>\n",
       "  <tbody>\n",
       "    <tr>\n",
       "      <th>5001</th>\n",
       "      <td>4.0</td>\n",
       "      <td>2817.865000</td>\n",
       "      <td>2342.289902</td>\n",
       "      <td>65.26</td>\n",
       "      <td>1816.765</td>\n",
       "      <td>2723.10</td>\n",
       "      <td>3724.200</td>\n",
       "      <td>5760.0</td>\n",
       "    </tr>\n",
       "    <tr>\n",
       "      <th>5002</th>\n",
       "      <td>3.0</td>\n",
       "      <td>449.816667</td>\n",
       "      <td>434.754299</td>\n",
       "      <td>150.50</td>\n",
       "      <td>200.475</td>\n",
       "      <td>250.45</td>\n",
       "      <td>599.475</td>\n",
       "      <td>948.5</td>\n",
       "    </tr>\n",
       "    <tr>\n",
       "      <th>5003</th>\n",
       "      <td>5.0</td>\n",
       "      <td>984.054000</td>\n",
       "      <td>1154.956450</td>\n",
       "      <td>75.29</td>\n",
       "      <td>110.500</td>\n",
       "      <td>270.65</td>\n",
       "      <td>1983.430</td>\n",
       "      <td>2480.4</td>\n",
       "    </tr>\n",
       "  </tbody>\n",
       "</table>\n",
       "</div>"
      ],
      "text/plain": [
       "            purch_amt                                                       \\\n",
       "                count         mean          std     min       25%      50%   \n",
       "salesman_id                                                                  \n",
       "5001              4.0  2817.865000  2342.289902   65.26  1816.765  2723.10   \n",
       "5002              3.0   449.816667   434.754299  150.50   200.475   250.45   \n",
       "5003              5.0   984.054000  1154.956450   75.29   110.500   270.65   \n",
       "\n",
       "                               \n",
       "                  75%     max  \n",
       "salesman_id                    \n",
       "5001         3724.200  5760.0  \n",
       "5002          599.475   948.5  \n",
       "5003         1983.430  2480.4  "
      ]
     },
     "execution_count": 15,
     "metadata": {},
     "output_type": "execute_result"
    }
   ],
   "source": [
    "salesmans_grouped_df"
   ]
  },
  {
   "cell_type": "code",
   "execution_count": 38,
   "metadata": {},
   "outputs": [
    {
     "data": {
      "text/html": [
       "<div>\n",
       "<style scoped>\n",
       "    .dataframe tbody tr th:only-of-type {\n",
       "        vertical-align: middle;\n",
       "    }\n",
       "\n",
       "    .dataframe tbody tr th {\n",
       "        vertical-align: top;\n",
       "    }\n",
       "\n",
       "    .dataframe thead th {\n",
       "        text-align: right;\n",
       "    }\n",
       "</style>\n",
       "<table border=\"1\" class=\"dataframe\">\n",
       "  <thead>\n",
       "    <tr style=\"text-align: right;\">\n",
       "      <th></th>\n",
       "      <th>max</th>\n",
       "    </tr>\n",
       "    <tr>\n",
       "      <th>salesman_id</th>\n",
       "      <th></th>\n",
       "    </tr>\n",
       "  </thead>\n",
       "  <tbody>\n",
       "    <tr>\n",
       "      <th>5001</th>\n",
       "      <td>5760.0</td>\n",
       "    </tr>\n",
       "    <tr>\n",
       "      <th>5002</th>\n",
       "      <td>948.5</td>\n",
       "    </tr>\n",
       "    <tr>\n",
       "      <th>5003</th>\n",
       "      <td>2480.4</td>\n",
       "    </tr>\n",
       "  </tbody>\n",
       "</table>\n",
       "</div>"
      ],
      "text/plain": [
       "                max\n",
       "salesman_id        \n",
       "5001         5760.0\n",
       "5002          948.5\n",
       "5003         2480.4"
      ]
     },
     "execution_count": 38,
     "metadata": {},
     "output_type": "execute_result"
    }
   ],
   "source": [
    "# Mamimium sales by each salesman\n",
    "pd.DataFrame(salesmans_grouped_df[\"purch_amt\"][\"max\"])"
   ]
  },
  {
   "cell_type": "code",
   "execution_count": 39,
   "metadata": {},
   "outputs": [
    {
     "data": {
      "text/html": [
       "<div>\n",
       "<style scoped>\n",
       "    .dataframe tbody tr th:only-of-type {\n",
       "        vertical-align: middle;\n",
       "    }\n",
       "\n",
       "    .dataframe tbody tr th {\n",
       "        vertical-align: top;\n",
       "    }\n",
       "\n",
       "    .dataframe thead th {\n",
       "        text-align: right;\n",
       "    }\n",
       "</style>\n",
       "<table border=\"1\" class=\"dataframe\">\n",
       "  <thead>\n",
       "    <tr style=\"text-align: right;\">\n",
       "      <th></th>\n",
       "      <th>min</th>\n",
       "    </tr>\n",
       "    <tr>\n",
       "      <th>salesman_id</th>\n",
       "      <th></th>\n",
       "    </tr>\n",
       "  </thead>\n",
       "  <tbody>\n",
       "    <tr>\n",
       "      <th>5001</th>\n",
       "      <td>65.26</td>\n",
       "    </tr>\n",
       "    <tr>\n",
       "      <th>5002</th>\n",
       "      <td>150.50</td>\n",
       "    </tr>\n",
       "    <tr>\n",
       "      <th>5003</th>\n",
       "      <td>75.29</td>\n",
       "    </tr>\n",
       "  </tbody>\n",
       "</table>\n",
       "</div>"
      ],
      "text/plain": [
       "                min\n",
       "salesman_id        \n",
       "5001          65.26\n",
       "5002         150.50\n",
       "5003          75.29"
      ]
     },
     "execution_count": 39,
     "metadata": {},
     "output_type": "execute_result"
    }
   ],
   "source": [
    "# minimum sales by each salesman\n",
    "pd.DataFrame(salesmans_grouped_df[\"purch_amt\"][\"min\"])"
   ]
  },
  {
   "cell_type": "code",
   "execution_count": 40,
   "metadata": {},
   "outputs": [
    {
     "data": {
      "text/html": [
       "<div>\n",
       "<style scoped>\n",
       "    .dataframe tbody tr th:only-of-type {\n",
       "        vertical-align: middle;\n",
       "    }\n",
       "\n",
       "    .dataframe tbody tr th {\n",
       "        vertical-align: top;\n",
       "    }\n",
       "\n",
       "    .dataframe thead th {\n",
       "        text-align: right;\n",
       "    }\n",
       "</style>\n",
       "<table border=\"1\" class=\"dataframe\">\n",
       "  <thead>\n",
       "    <tr style=\"text-align: right;\">\n",
       "      <th></th>\n",
       "      <th>mean</th>\n",
       "    </tr>\n",
       "    <tr>\n",
       "      <th>salesman_id</th>\n",
       "      <th></th>\n",
       "    </tr>\n",
       "  </thead>\n",
       "  <tbody>\n",
       "    <tr>\n",
       "      <th>5001</th>\n",
       "      <td>2817.865000</td>\n",
       "    </tr>\n",
       "    <tr>\n",
       "      <th>5002</th>\n",
       "      <td>449.816667</td>\n",
       "    </tr>\n",
       "    <tr>\n",
       "      <th>5003</th>\n",
       "      <td>984.054000</td>\n",
       "    </tr>\n",
       "  </tbody>\n",
       "</table>\n",
       "</div>"
      ],
      "text/plain": [
       "                    mean\n",
       "salesman_id             \n",
       "5001         2817.865000\n",
       "5002          449.816667\n",
       "5003          984.054000"
      ]
     },
     "execution_count": 40,
     "metadata": {},
     "output_type": "execute_result"
    }
   ],
   "source": [
    "# mean sales by each salesman\n",
    "pd.DataFrame(salesmans_grouped_df[\"purch_amt\"][\"mean\"])"
   ]
  },
  {
   "cell_type": "code",
   "execution_count": 41,
   "metadata": {},
   "outputs": [
    {
     "data": {
      "text/html": [
       "<div>\n",
       "<style scoped>\n",
       "    .dataframe tbody tr th:only-of-type {\n",
       "        vertical-align: middle;\n",
       "    }\n",
       "\n",
       "    .dataframe tbody tr th {\n",
       "        vertical-align: top;\n",
       "    }\n",
       "\n",
       "    .dataframe thead th {\n",
       "        text-align: right;\n",
       "    }\n",
       "</style>\n",
       "<table border=\"1\" class=\"dataframe\">\n",
       "  <thead>\n",
       "    <tr style=\"text-align: right;\">\n",
       "      <th></th>\n",
       "      <th>count</th>\n",
       "    </tr>\n",
       "    <tr>\n",
       "      <th>salesman_id</th>\n",
       "      <th></th>\n",
       "    </tr>\n",
       "  </thead>\n",
       "  <tbody>\n",
       "    <tr>\n",
       "      <th>5001</th>\n",
       "      <td>4.0</td>\n",
       "    </tr>\n",
       "    <tr>\n",
       "      <th>5002</th>\n",
       "      <td>3.0</td>\n",
       "    </tr>\n",
       "    <tr>\n",
       "      <th>5003</th>\n",
       "      <td>5.0</td>\n",
       "    </tr>\n",
       "  </tbody>\n",
       "</table>\n",
       "</div>"
      ],
      "text/plain": [
       "             count\n",
       "salesman_id       \n",
       "5001           4.0\n",
       "5002           3.0\n",
       "5003           5.0"
      ]
     },
     "execution_count": 41,
     "metadata": {},
     "output_type": "execute_result"
    }
   ],
   "source": [
    "# Numbers of orders sold by each salesman\n",
    "pd.DataFrame(salesmans_grouped_df[\"purch_amt\"][\"count\"])"
   ]
  },
  {
   "cell_type": "code",
   "execution_count": 16,
   "metadata": {},
   "outputs": [
    {
     "name": "stdout",
     "output_type": "stream",
     "text": [
      "The maximum number of orders sold by a salesman 5.0\n",
      "The minimum number of orders created by a salesman 3.0\n"
     ]
    }
   ],
   "source": [
    "print(f\"The maximum number of orders sold by a salesman {salesmans_grouped_df['purch_amt']['count'].max()}\")\n",
    "print(f\"The minimum number of orders created by a salesman {salesmans_grouped_df['purch_amt']['count'].min()}\")"
   ]
  },
  {
   "cell_type": "code",
   "execution_count": 159,
   "metadata": {},
   "outputs": [
    {
     "name": "stdout",
     "output_type": "stream",
     "text": [
      "The most expensive order sold by a salesman 5760.0\n",
      "The least expensive order sold by a salesman 948.5\n"
     ]
    }
   ],
   "source": [
    "print(f\"The most expensive order sold by a salesman {salesmans_grouped_df['purch_amt']['max'].max()}\")\n",
    "print(f\"The least expensive order sold by a salesman {salesmans_grouped_df['purch_amt']['max'].min()}\")"
   ]
  },
  {
   "cell_type": "code",
   "execution_count": 26,
   "metadata": {},
   "outputs": [
    {
     "name": "stdout",
     "output_type": "stream",
     "text": [
      " Salesman Number = 1\n",
      "number of orders sold by this salesman = 4.0\n",
      "The mean value of the orders = 2817.8650000000002\n",
      "The most expensive order created by this customer 5760.0\n",
      "\n",
      "\n",
      " Salesman Number = 2\n",
      "number of orders sold by this salesman = 3.0\n",
      "The mean value of the orders = 449.81666666666666\n",
      "The most expensive order created by this customer 5760.0\n",
      "\n",
      "\n",
      " Salesman Number = 3\n",
      "number of orders sold by this salesman = 5.0\n",
      "The mean value of the orders = 984.0539999999999\n",
      "The most expensive order created by this customer 5760.0\n",
      "\n",
      "\n"
     ]
    }
   ],
   "source": [
    "for i in range(len(salesmans_grouped_df)):\n",
    "    print(f\" Salesman Number = {i+1}\")\n",
    "    print(f\"number of orders sold by this salesman = {salesmans_grouped_df.iloc[i]['purch_amt']['count']}\")\n",
    "    print(f\"The mean value of the orders = {salesmans_grouped_df.iloc[i]['purch_amt']['mean']}\")  \n",
    "    print(f\"The most expensive order created by this customer {salesmans_grouped_df['purch_amt']['max'].max()}\")\n",
    "    print(\"\\n\")"
   ]
  }
 ],
 "metadata": {
  "kernelspec": {
   "display_name": "Python 3 (ipykernel)",
   "language": "python",
   "name": "python3"
  },
  "language_info": {
   "codemirror_mode": {
    "name": "ipython",
    "version": 3
   },
   "file_extension": ".py",
   "mimetype": "text/x-python",
   "name": "python",
   "nbconvert_exporter": "python",
   "pygments_lexer": "ipython3",
   "version": "3.9.12"
  },
  "vscode": {
   "interpreter": {
    "hash": "916dbcbb3f70747c44a77c7bcd40155683ae19c65e1c03b4aa3499c5328201f1"
   }
  }
 },
 "nbformat": 4,
 "nbformat_minor": 2
}
